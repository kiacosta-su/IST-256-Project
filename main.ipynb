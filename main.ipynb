{
 "cells": [
  {
   "cell_type": "code",
   "execution_count": null,
   "metadata": {},
   "outputs": [],
   "source": [
    "!pip install stockx-py-sdk"
   ]
  },
  {
   "cell_type": "code",
   "execution_count": null,
   "metadata": {},
   "outputs": [],
   "source": [
    "from stockxsdk import Stockx"
   ]
  },
  {
   "cell_type": "code",
   "execution_count": null,
   "metadata": {},
   "outputs": [],
   "source": [
    "stockx = Stockx()"
   ]
  },
  {
   "cell_type": "code",
   "execution_count": null,
   "metadata": {},
   "outputs": [],
   "source": [
    "def get_product(email = \"boringjohndoe@gmail.com\", password = \"Ihatethisclass.100\"):\n",
    "    # Looping until login is successfull\n",
    "    while True:\n",
    "        # Prompting user for their account\n",
    "        # email = input(\"enter your stockx email: \")\n",
    "        # password = input(\"enter your stockx password: \")\n",
    "\n",
    "        # Authenticate the user\n",
    "        logged_in = stockx.authenticate(email, password)\n",
    "\n",
    "        # Check to see if credentials are currect, if not\n",
    "        # they will have to enter their correct crendentails\n",
    "        if logged_in:\n",
    "            break\n",
    "        else:\n",
    "            print(\"WRONG, GOODBYE\")\n",
    "\n",
    "    # loop until user is done looking at the price of a sneaker\n",
    "    while True:\n",
    "        # Prompt user for a name of a sneaker\n",
    "        product_id = input(\"enter the name of your sneaker or 'QUIT' to stop: \")\n",
    "\n",
    "        # Check to see if user is done searching\n",
    "        # if not, print out what sneaker price\n",
    "        if product_id == \"QUIT\" or product_id == \"\":\n",
    "            print(\"BYE BYE\")\n",
    "            break\n",
    "        else:\n",
    "            product = stockx.search(product_id)\n",
    "            sneaker = product[0]\n",
    "            print(sneaker['name'])"
   ]
  }
 ],
 "metadata": {
  "kernelspec": {
   "display_name": "Python 3",
   "language": "python",
   "name": "python3"
  },
  "language_info": {
   "codemirror_mode": {
    "name": "ipython",
    "version": 3
   },
   "file_extension": ".py",
   "mimetype": "text/x-python",
   "name": "python",
   "nbconvert_exporter": "python",
   "pygments_lexer": "ipython3",
   "version": "3.7.3"
  }
 },
 "nbformat": 4,
 "nbformat_minor": 2
}
