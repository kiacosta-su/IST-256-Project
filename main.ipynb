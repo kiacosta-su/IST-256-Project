{
 "cells": [
  {
   "cell_type": "code",
   "execution_count": 1,
   "metadata": {},
   "outputs": [
    {
     "name": "stdout",
     "output_type": "stream",
     "text": [
      "Requirement already satisfied: stockx-py-sdk in /Library/Frameworks/Python.framework/Versions/3.6/lib/python3.6/site-packages (0.0.2)\n",
      "Requirement already satisfied: requests in /Library/Frameworks/Python.framework/Versions/3.6/lib/python3.6/site-packages (from stockx-py-sdk) (2.21.0)\n",
      "Requirement already satisfied: urllib3<1.25,>=1.21.1 in /Library/Frameworks/Python.framework/Versions/3.6/lib/python3.6/site-packages (from requests->stockx-py-sdk) (1.24.1)\n",
      "Requirement already satisfied: certifi>=2017.4.17 in /Library/Frameworks/Python.framework/Versions/3.6/lib/python3.6/site-packages (from requests->stockx-py-sdk) (2018.11.29)\n",
      "Requirement already satisfied: chardet<3.1.0,>=3.0.2 in /Library/Frameworks/Python.framework/Versions/3.6/lib/python3.6/site-packages (from requests->stockx-py-sdk) (3.0.4)\n",
      "Requirement already satisfied: idna<2.9,>=2.5 in /Library/Frameworks/Python.framework/Versions/3.6/lib/python3.6/site-packages (from requests->stockx-py-sdk) (2.8)\n",
      "\u001b[33mYou are using pip version 19.0, however version 19.1 is available.\n",
      "You should consider upgrading via the 'pip install --upgrade pip' command.\u001b[0m\n",
      "Requirement already satisfied: matplotlib in /Library/Frameworks/Python.framework/Versions/3.6/lib/python3.6/site-packages (3.0.2)\n",
      "Requirement already satisfied: python-dateutil>=2.1 in /Library/Frameworks/Python.framework/Versions/3.6/lib/python3.6/site-packages (from matplotlib) (2.7.5)\n",
      "Requirement already satisfied: kiwisolver>=1.0.1 in /Library/Frameworks/Python.framework/Versions/3.6/lib/python3.6/site-packages (from matplotlib) (1.0.1)\n",
      "Requirement already satisfied: pyparsing!=2.0.4,!=2.1.2,!=2.1.6,>=2.0.1 in /Library/Frameworks/Python.framework/Versions/3.6/lib/python3.6/site-packages (from matplotlib) (2.3.0)\n",
      "Requirement already satisfied: cycler>=0.10 in /Library/Frameworks/Python.framework/Versions/3.6/lib/python3.6/site-packages (from matplotlib) (0.10.0)\n",
      "Requirement already satisfied: numpy>=1.10.0 in /Library/Frameworks/Python.framework/Versions/3.6/lib/python3.6/site-packages (from matplotlib) (1.16.0)\n",
      "Requirement already satisfied: six>=1.5 in /Library/Frameworks/Python.framework/Versions/3.6/lib/python3.6/site-packages (from python-dateutil>=2.1->matplotlib) (1.12.0)\n",
      "Requirement already satisfied: setuptools in /Library/Frameworks/Python.framework/Versions/3.6/lib/python3.6/site-packages (from kiwisolver>=1.0.1->matplotlib) (40.6.3)\n",
      "\u001b[33mYou are using pip version 19.0, however version 19.1 is available.\n",
      "You should consider upgrading via the 'pip install --upgrade pip' command.\u001b[0m\n"
     ]
    }
   ],
   "source": [
    "!pip3 install stockx-py-sdk\n",
    "!pip3 install matplotlib"
   ]
  },
  {
   "cell_type": "code",
   "execution_count": 2,
   "metadata": {},
   "outputs": [],
   "source": [
    "from stockxsdk import Stockx\n",
    "import matplotlib\n",
    "import matplotlib.pyplot as plt\n",
    "import plotly \n",
    "import plotly.plotly as py     \n",
    "import plotly.graph_objs as go  \n",
    "import cufflinks as cf\n",
    "import pandas as pd"
   ]
  },
  {
   "cell_type": "code",
   "execution_count": 3,
   "metadata": {},
   "outputs": [],
   "source": [
    "stockx = Stockx()"
   ]
  },
  {
   "cell_type": "code",
   "execution_count": 6,
   "metadata": {},
   "outputs": [],
   "source": [
    "def get_product():\n",
    "    # asking user to serach for a product\n",
    "    product_search = input(\"enter the name of your sneaker or 'QUIT' to stop: \")\n",
    "    product_size = input(\"enter a number: \")\n",
    "    \n",
    "    # retriving products from stockx package\n",
    "    products = stockx.search(product_search)\n",
    "    \n",
    "    # grabbing the first product out of the all of searches\n",
    "    single_product = products[0]\n",
    "    \n",
    "    # grabbing the name and id\n",
    "    single_product_name = single_product[\"name\"]\n",
    "    single_product_id = single_product[\"objectID\"]\n",
    "    \n",
    "    # creating empty list of asks and bids for the single product\n",
    "    single_product_bids = []\n",
    "    single_product_asks = []\n",
    "    \n",
    "    # retriving product bids and asks\n",
    "    bids = stockx.get_bids(single_product_id)\n",
    "    for bid in bids:\n",
    "        if bid.shoe_size == product_size:\n",
    "            single_product_bids.append(bid.order_price)\n",
    "\n",
    "    asks = stockx.get_asks(single_product_id)\n",
    "    for ask in asks:\n",
    "        if ask.shoe_size == product_size:\n",
    "            single_product_asks.append(ask.order_price)\n",
    "    \n",
    "    # returning asks and bids\n",
    "    stats = {\n",
    "        \"name\": single_product_name,\n",
    "        \"id\": single_product_id,\n",
    "        \"ask\": single_product_asks,\n",
    "        \"bids\": single_product_bids\n",
    "    }\n",
    "    \n",
    "    return stats"
   ]
  },
  {
   "cell_type": "code",
   "execution_count": 28,
   "metadata": {},
   "outputs": [
    {
     "name": "stdout",
     "output_type": "stream",
     "text": [
      "enter the name of your sneaker or 'QUIT' to stop: fear \n",
      "enter a number: 8\n",
      "priced asked are:  [272, 273, 274, 275, 276, 280, 285, 288, 289, 290, 296.3919, 298, 299, 299.0265, 302.7109, 320, 325, 329.3244, 339.7089, 350, 375, 376.707, 400, 500, 520, 559.4547]\n",
      "shoe bids are: [25, 30, 80, 100, 170, 179.3843, 180, 190, 195, 200, 201, 210, 211, 220, 225, 230, 232, 235, 238, 240, 245, 246, 249, 250, 251, 252, 253, 254, 255, 260, 265, 266, 267] \n"
     ]
    }
   ],
   "source": [
    "shoe_called = get_product()\n",
    "\n",
    "price_asked = shoe_called['ask']\n",
    "shoe_bids = shoe_called['bids']\n",
    "\n",
    "#print('Price asked is %s and shoe bids are %s'% (price_asked, shoe_bids))\n",
    "print('priced asked are:  %s' % (price_asked))\n",
    "\n",
    "\n",
    "print('shoe bids are: %s ' % (shoe_bids))\n"
   ]
  },
  {
   "cell_type": "code",
   "execution_count": null,
   "metadata": {},
   "outputs": [],
   "source": [
    "#on graph want name to appear as title or somewhere on graph \n",
    "# maybe also include shoe size \n",
    "#graph will show correlation between asked priced + shoe bids\n",
    "\n"
   ]
  }
 ],
 "metadata": {
  "kernelspec": {
   "display_name": "Python 3",
   "language": "python",
   "name": "python3"
  },
  "language_info": {
   "codemirror_mode": {
    "name": "ipython",
    "version": 3
   },
   "file_extension": ".py",
   "mimetype": "text/x-python",
   "name": "python",
   "nbconvert_exporter": "python",
   "pygments_lexer": "ipython3",
   "version": "3.6.6"
  }
 },
 "nbformat": 4,
 "nbformat_minor": 2
}
