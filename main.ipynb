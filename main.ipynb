{
 "cells": [
  {
   "cell_type": "code",
   "execution_count": 1,
   "metadata": {},
   "outputs": [
    {
     "name": "stdout",
     "output_type": "stream",
     "text": [
      "Requirement already satisfied: stockx-py-sdk in /Library/Frameworks/Python.framework/Versions/3.6/lib/python3.6/site-packages (0.0.2)\n",
      "Requirement already satisfied: requests in /Library/Frameworks/Python.framework/Versions/3.6/lib/python3.6/site-packages (from stockx-py-sdk) (2.21.0)\n",
      "Requirement already satisfied: certifi>=2017.4.17 in /Library/Frameworks/Python.framework/Versions/3.6/lib/python3.6/site-packages (from requests->stockx-py-sdk) (2018.11.29)\n",
      "Requirement already satisfied: chardet<3.1.0,>=3.0.2 in /Library/Frameworks/Python.framework/Versions/3.6/lib/python3.6/site-packages (from requests->stockx-py-sdk) (3.0.4)\n",
      "Requirement already satisfied: idna<2.9,>=2.5 in /Library/Frameworks/Python.framework/Versions/3.6/lib/python3.6/site-packages (from requests->stockx-py-sdk) (2.8)\n",
      "Requirement already satisfied: urllib3<1.25,>=1.21.1 in /Library/Frameworks/Python.framework/Versions/3.6/lib/python3.6/site-packages (from requests->stockx-py-sdk) (1.24.1)\n",
      "\u001b[33mYou are using pip version 19.0, however version 19.1 is available.\n",
      "You should consider upgrading via the 'pip install --upgrade pip' command.\u001b[0m\n",
      "Requirement already satisfied: matplotlib in /Library/Frameworks/Python.framework/Versions/3.6/lib/python3.6/site-packages (3.0.2)\n",
      "Requirement already satisfied: cycler>=0.10 in /Library/Frameworks/Python.framework/Versions/3.6/lib/python3.6/site-packages (from matplotlib) (0.10.0)\n",
      "Requirement already satisfied: python-dateutil>=2.1 in /Library/Frameworks/Python.framework/Versions/3.6/lib/python3.6/site-packages (from matplotlib) (2.7.5)\n",
      "Requirement already satisfied: pyparsing!=2.0.4,!=2.1.2,!=2.1.6,>=2.0.1 in /Library/Frameworks/Python.framework/Versions/3.6/lib/python3.6/site-packages (from matplotlib) (2.3.0)\n",
      "Requirement already satisfied: kiwisolver>=1.0.1 in /Library/Frameworks/Python.framework/Versions/3.6/lib/python3.6/site-packages (from matplotlib) (1.0.1)\n",
      "Requirement already satisfied: numpy>=1.10.0 in /Library/Frameworks/Python.framework/Versions/3.6/lib/python3.6/site-packages (from matplotlib) (1.16.0)\n",
      "Requirement already satisfied: six in /Library/Frameworks/Python.framework/Versions/3.6/lib/python3.6/site-packages (from cycler>=0.10->matplotlib) (1.12.0)\n",
      "Requirement already satisfied: setuptools in /Library/Frameworks/Python.framework/Versions/3.6/lib/python3.6/site-packages (from kiwisolver>=1.0.1->matplotlib) (40.6.3)\n",
      "\u001b[33mYou are using pip version 19.0, however version 19.1 is available.\n",
      "You should consider upgrading via the 'pip install --upgrade pip' command.\u001b[0m\n"
     ]
    }
   ],
   "source": [
    "!pip3 install stockx-py-sdk\n",
    "!pip3 install matplotlib"
   ]
  },
  {
   "cell_type": "code",
   "execution_count": 2,
   "metadata": {},
   "outputs": [],
   "source": [
    "from stockxsdk import Stockx\n",
    "import matplotlib\n",
    "import matplotlib.pyplot as plt\n",
    "import plotly \n",
    "import plotly.plotly as py \n",
    "import plotly.tools as tls\n",
    "import plotly.graph_objs as go  \n",
    "import cufflinks as cf\n",
    "import pandas as pd"
   ]
  },
  {
   "cell_type": "code",
   "execution_count": 3,
   "metadata": {},
   "outputs": [],
   "source": [
    "stockx = Stockx()"
   ]
  },
  {
   "cell_type": "code",
   "execution_count": 4,
   "metadata": {},
   "outputs": [],
   "source": [
    "def get_product():\n",
    "    # asking user to serach for a product\n",
    "    product_search = input(\"enter the name of your sneaker or 'QUIT' to stop: \")\n",
    "    product_size = input(\"enter a number: \")\n",
    "    \n",
    "    # retriving products from stockx package\n",
    "    products = stockx.search(product_search)\n",
    "    \n",
    "    # grabbing the first product out of the all of searches\n",
    "    single_product = products[0]\n",
    "    \n",
    "    # grabbing the name and id\n",
    "    single_product_name = single_product[\"name\"]\n",
    "    single_product_id = single_product[\"objectID\"]\n",
    "    \n",
    "    # creating empty list of asks and bids for the single product\n",
    "    single_product_bids = []\n",
    "    single_product_asks = []\n",
    "    \n",
    "    # retriving product bids and asks\n",
    "    bids = stockx.get_bids(single_product_id)\n",
    "    for bid in bids:\n",
    "        if bid.shoe_size == product_size:\n",
    "            single_product_bids.append(bid.order_price)\n",
    "\n",
    "    asks = stockx.get_asks(single_product_id)\n",
    "    for ask in asks:\n",
    "        if ask.shoe_size == product_size:\n",
    "            single_product_asks.append(ask.order_price)\n",
    "    \n",
    "    # returning asks and bids\n",
    "    stats = {\n",
    "        \"name\": single_product_name,\n",
    "        \"id\": single_product_id,\n",
    "        \"ask\": single_product_asks,\n",
    "        \"bids\": single_product_bids\n",
    "    }\n",
    "    \n",
    "    return stats"
   ]
  },
  {
   "cell_type": "code",
   "execution_count": 29,
   "metadata": {},
   "outputs": [
    {
     "name": "stdout",
     "output_type": "stream",
     "text": [
      "enter the name of your sneaker or 'QUIT' to stop: Fear \n",
      "enter a number: 6\n"
     ]
    },
    {
     "data": {
      "text/plain": [
       "{'name': 'Air Fear of God Raid Light Bone',\n",
       " 'id': 'a71b54ab-ad20-4729-8ad8-9fb337041e54',\n",
       " 'ask': [217,\n",
       "  220,\n",
       "  223,\n",
       "  225,\n",
       "  227,\n",
       "  228,\n",
       "  229,\n",
       "  230,\n",
       "  238,\n",
       "  240,\n",
       "  243,\n",
       "  249,\n",
       "  250,\n",
       "  255,\n",
       "  267.7883,\n",
       "  270,\n",
       "  274,\n",
       "  295,\n",
       "  300,\n",
       "  305,\n",
       "  330,\n",
       "  350,\n",
       "  448.1813,\n",
       "  1500],\n",
       " 'bids': [80, 125, 140, 190, 195, 200, 206]}"
      ]
     },
     "execution_count": 29,
     "metadata": {},
     "output_type": "execute_result"
    }
   ],
   "source": [
    "get_product()"
   ]
  },
  {
   "cell_type": "code",
   "execution_count": 7,
   "metadata": {},
   "outputs": [
    {
     "name": "stdout",
     "output_type": "stream",
     "text": [
      "enter the name of your sneaker or 'QUIT' to stop: presto\n",
      "enter a number: 7\n",
      "Chosen shoe is: Nike React Presto Brutal Honey\n",
      "priced asked are:  [150]\n",
      "shoe bids are: [66, 72.8091] \n"
     ]
    }
   ],
   "source": [
    "shoe_called = get_product()\n",
    "\n",
    "shoe_name = shoe_called['name']\n",
    "price_asked = shoe_called['ask']\n",
    "shoe_bids = shoe_called['bids']\n",
    "\n",
    "#print('Price asked is %s and shoe bids are %s'% (price_asked, shoe_bids))\n",
    "print('Chosen shoe is: %s' % (shoe_name))\n",
    "\n",
    "print('priced asked are:  %s' % (price_asked))\n",
    "\n",
    "print('shoe bids are: %s ' % shoe_bids)"
   ]
  },
  {
   "cell_type": "code",
   "execution_count": 8,
   "metadata": {},
   "outputs": [
    {
     "data": {
      "image/png": "[encoded data removed]",
      "text/plain": [
       "<Figure size 432x288 with 1 Axes>"
      ]
     },
     "metadata": {
      "needs_background": "light"
     },
     "output_type": "display_data"
    }
   ],
   "source": [
    "y  = [price_asked, shoe_bids]\n",
    "x = [1,2]\n",
    "\n",
    "for xe, ye in zip (x,y):\n",
    "    plt.scatter([xe] * len(ye), ye)\n",
    "\n",
    "plt.xticks([1, 2])\n",
    "plt.axes().set_xticklabels(['Price asked', 'Bid price'])\n",
    "plt.title('Shoe chosen is %s' % (shoe_name))\n",
    "plt.ylabel ('Prices')\n",
    "\n",
    "plt.savefig('shoeinfo.png') "
   ]
  },
  {
   "cell_type": "code",
   "execution_count": null,
   "metadata": {},
   "outputs": [],
   "source": []
  }
 ],
 "metadata": {
  "kernelspec": {
   "display_name": "Python 3",
   "language": "python",
   "name": "python3"
  },
  "language_info": {
   "codemirror_mode": {
    "name": "ipython",
    "version": 3
   },
   "file_extension": ".py",
   "mimetype": "text/x-python",
   "name": "python",
   "nbconvert_exporter": "python",
   "pygments_lexer": "ipython3",
   "version": "3.6.6"
  }
 },
 "nbformat": 4,
 "nbformat_minor": 2
}
