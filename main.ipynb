{
 "cells": [
  {
   "cell_type": "code",
   "execution_count": 11,
   "metadata": {},
   "outputs": [
    {
     "name": "stdout",
     "output_type": "stream",
     "text": [
      "Requirement already satisfied: stockx-py-sdk in /Library/Frameworks/Python.framework/Versions/3.6/lib/python3.6/site-packages (0.0.2)\n",
      "Requirement already satisfied: requests in /Library/Frameworks/Python.framework/Versions/3.6/lib/python3.6/site-packages (from stockx-py-sdk) (2.21.0)\n",
      "Requirement already satisfied: urllib3<1.25,>=1.21.1 in /Library/Frameworks/Python.framework/Versions/3.6/lib/python3.6/site-packages (from requests->stockx-py-sdk) (1.24.1)\n",
      "Requirement already satisfied: idna<2.9,>=2.5 in /Library/Frameworks/Python.framework/Versions/3.6/lib/python3.6/site-packages (from requests->stockx-py-sdk) (2.8)\n",
      "Requirement already satisfied: certifi>=2017.4.17 in /Library/Frameworks/Python.framework/Versions/3.6/lib/python3.6/site-packages (from requests->stockx-py-sdk) (2018.11.29)\n",
      "Requirement already satisfied: chardet<3.1.0,>=3.0.2 in /Library/Frameworks/Python.framework/Versions/3.6/lib/python3.6/site-packages (from requests->stockx-py-sdk) (3.0.4)\n",
      "\u001b[33mYou are using pip version 19.0, however version 19.1 is available.\n",
      "You should consider upgrading via the 'pip install --upgrade pip' command.\u001b[0m\n",
      "Requirement already satisfied: matplotlib in /Library/Frameworks/Python.framework/Versions/3.6/lib/python3.6/site-packages (3.0.2)\n",
      "Requirement already satisfied: kiwisolver>=1.0.1 in /Library/Frameworks/Python.framework/Versions/3.6/lib/python3.6/site-packages (from matplotlib) (1.0.1)\n",
      "Requirement already satisfied: cycler>=0.10 in /Library/Frameworks/Python.framework/Versions/3.6/lib/python3.6/site-packages (from matplotlib) (0.10.0)\n",
      "Requirement already satisfied: numpy>=1.10.0 in /Library/Frameworks/Python.framework/Versions/3.6/lib/python3.6/site-packages (from matplotlib) (1.16.0)\n",
      "Requirement already satisfied: python-dateutil>=2.1 in /Library/Frameworks/Python.framework/Versions/3.6/lib/python3.6/site-packages (from matplotlib) (2.7.5)\n",
      "Requirement already satisfied: pyparsing!=2.0.4,!=2.1.2,!=2.1.6,>=2.0.1 in /Library/Frameworks/Python.framework/Versions/3.6/lib/python3.6/site-packages (from matplotlib) (2.3.0)\n",
      "Requirement already satisfied: setuptools in /Library/Frameworks/Python.framework/Versions/3.6/lib/python3.6/site-packages (from kiwisolver>=1.0.1->matplotlib) (40.6.3)\n",
      "Requirement already satisfied: six in /Library/Frameworks/Python.framework/Versions/3.6/lib/python3.6/site-packages (from cycler>=0.10->matplotlib) (1.12.0)\n",
      "\u001b[33mYou are using pip version 19.0, however version 19.1 is available.\n",
      "You should consider upgrading via the 'pip install --upgrade pip' command.\u001b[0m\n"
     ]
    }
   ],
   "source": [
    "!pip3 install stockx-py-sdk\n",
    "!pip3 install matplotlib"
   ]
  },
  {
   "cell_type": "code",
   "execution_count": 20,
   "metadata": {},
   "outputs": [],
   "source": [
    "from stockxsdk import Stockx\n",
    "import matplotlib\n",
    "import matplotlib.pyplot as plt\n",
    "import plotly \n",
    "import plotly.plotly as py \n",
    "import plotly.tools as tls\n",
    "import plotly.graph_objs as go  \n",
    "import cufflinks as cf\n",
    "import pandas as pd"
   ]
  },
  {
   "cell_type": "code",
   "execution_count": 13,
   "metadata": {},
   "outputs": [],
   "source": [
    "stockx = Stockx()"
   ]
  },
  {
   "cell_type": "code",
   "execution_count": 15,
   "metadata": {},
   "outputs": [],
   "source": [
    "def get_product():\n",
    "    # asking user to serach for a product\n",
    "    product_search = input(\"enter the name of your sneaker or 'QUIT' to stop: \")\n",
    "    product_size = input(\"enter a number: \")\n",
    "    \n",
    "    # retriving products from stockx package\n",
    "    products = stockx.search(product_search)\n",
    "    \n",
    "    # grabbing the first product out of the all of searches\n",
    "    single_product = products[0]\n",
    "    \n",
    "    # grabbing the name and id\n",
    "    single_product_name = single_product[\"name\"]\n",
    "    single_product_id = single_product[\"objectID\"]\n",
    "    \n",
    "    # creating empty list of asks and bids for the single product\n",
    "    single_product_bids = []\n",
    "    single_product_asks = []\n",
    "    \n",
    "    # retriving product bids and asks\n",
    "    bids = stockx.get_bids(single_product_id)\n",
    "    for bid in bids:\n",
    "        if bid.shoe_size == product_size:\n",
    "            single_product_bids.append(bid.order_price)\n",
    "\n",
    "    asks = stockx.get_asks(single_product_id)\n",
    "    for ask in asks:\n",
    "        if ask.shoe_size == product_size:\n",
    "            single_product_asks.append(ask.order_price)\n",
    "    \n",
    "    # returning asks and bids\n",
    "    stats = {\n",
    "        \"name\": single_product_name,\n",
    "        \"id\": single_product_id,\n",
    "        \"ask\": single_product_asks,\n",
    "        \"bids\": single_product_bids\n",
    "    }\n",
    "    \n",
    "    return stats"
   ]
  },
  {
   "cell_type": "code",
   "execution_count": 29,
   "metadata": {},
   "outputs": [
    {
     "name": "stdout",
     "output_type": "stream",
     "text": [
      "enter the name of your sneaker or 'QUIT' to stop: Fear \n",
      "enter a number: 6\n"
     ]
    },
    {
     "data": {
      "text/plain": [
       "{'name': 'Air Fear of God Raid Light Bone',\n",
       " 'id': 'a71b54ab-ad20-4729-8ad8-9fb337041e54',\n",
       " 'ask': [217,\n",
       "  220,\n",
       "  223,\n",
       "  225,\n",
       "  227,\n",
       "  228,\n",
       "  229,\n",
       "  230,\n",
       "  238,\n",
       "  240,\n",
       "  243,\n",
       "  249,\n",
       "  250,\n",
       "  255,\n",
       "  267.7883,\n",
       "  270,\n",
       "  274,\n",
       "  295,\n",
       "  300,\n",
       "  305,\n",
       "  330,\n",
       "  350,\n",
       "  448.1813,\n",
       "  1500],\n",
       " 'bids': [80, 125, 140, 190, 195, 200, 206]}"
      ]
     },
     "execution_count": 29,
     "metadata": {},
     "output_type": "execute_result"
    }
   ],
   "source": [
    "get_product()"
   ]
  },
  {
   "cell_type": "code",
   "execution_count": null,
   "metadata": {},
   "outputs": [],
   "source": [
    "shoe_called = get_product()\n",
    "\n",
    "shoe_name = shoe_called['name']\n",
    "price_asked = shoe_called['ask']\n",
    "shoe_bids = shoe_called['bids']\n",
    "\n",
    "#print('Price asked is %s and shoe bids are %s'% (price_asked, shoe_bids))\n",
    "print('Chosen shoe is: %s' % (shoe_name))\n",
    "\n",
    "print('priced asked are:  %s' % (price_asked))\n",
    "\n",
    "print('shoe bids are: %s ' % shoe_bids)"
   ]
  },
  {
   "cell_type": "code",
   "execution_count": 35,
   "metadata": {},
   "outputs": [
    {
     "data": {
      "text/html": [
       "<iframe id=\"igraph\" scrolling=\"no\" style=\"border:none;\" seamless=\"seamless\" src=\"https://plot.ly/~acostkim000/20.embed\" height=\"288px\" width=\"432px\"></iframe>"
      ],
      "text/plain": [
       "<plotly.tools.PlotlyDisplay object>"
      ]
     },
     "execution_count": 35,
     "metadata": {},
     "output_type": "execute_result"
    }
   ],
   "source": [
    "#on graph want name to appear as title or somewhere on graph \n",
    "# maybe also include shoe size \n",
    "#graph will show correlation between asked priced + shoe bids\n",
    "fig = plt.figure()\n",
    "ax = fig.add_subplot(111) # 1x1 grid is being used \n",
    "\n",
    "x = shoe_bids \n",
    "y = [0]*len(x)\n",
    "s = 250\n",
    "\n",
    "ax.scatter(x,y,s=s)\n",
    "#ax.set_title('Relative shoe bids')\n",
    "ax.set_title('Relative %s bids' % (shoe_name))\n",
    "\n",
    "\n",
    "plotly_fig = tls.mpl_to_plotly( fig )\n",
    "plotly_fig['layout']['showlegend'] = True\n",
    "py.iplot(plotly_fig, filename='mpl-marker-size')\n",
    "\n",
    "#data is too clustered together "
   ]
  },
  {
   "cell_type": "code",
   "execution_count": 42,
   "metadata": {},
   "outputs": [
    {
     "name": "stderr",
     "output_type": "stream",
     "text": [
      "/Library/Frameworks/Python.framework/Versions/3.6/lib/python3.6/site-packages/matplotlib/figure.py:98: MatplotlibDeprecationWarning:\n",
      "\n",
      "\n",
      "Adding an axes using the same arguments as a previous axes currently reuses the earlier instance.  In a future version, a new instance will always be created and returned.  Meanwhile, this warning can be suppressed, and the future behavior ensured, by passing a unique label to each axes instance.\n",
      "\n"
     ]
    },
    {
     "data": {
      "image/png": "[encoded data removed]",
      "text/plain": [
       "<Figure size 432x288 with 1 Axes>"
      ]
     },
     "metadata": {
      "needs_background": "light"
     },
     "output_type": "display_data"
    }
   ],
   "source": [
    "import matplotlib.pyplot as plt\n",
    "import numpy as np\n",
    "\n",
    "y = [(1,1,2,3,9),(1,1,2,4)]\n",
    "x = [1,2]\n",
    "\n",
    "for xe, ye in zip(x, y):\n",
    "    plt.scatter([xe] * len(ye), ye)\n",
    "\n",
    "plt.xticks([1, 2])\n",
    "plt.axes().set_xticklabels(['cat1', 'cat2'])\n",
    "\n",
    "plt.savefig('t.png')"
   ]
  },
  {
   "cell_type": "code",
   "execution_count": null,
   "metadata": {},
   "outputs": [],
   "source": [
    "y  = [(shoe_asked, shoe_bids)]\n",
    "x = [1,2]\n",
    "\n",
    "for xe,  ye in zip (x,y):\n",
    "    plt.scatter([xe] * len(ye), ye)\n",
    "\n",
    "plt.xticks([1, 2])\n",
    "plt.axes().set_xticklabels(['Price asked', 'Bid price'])\n",
    "\n",
    "plt.savefig('shoeinfo.png')"
   ]
  },
  {
   "cell_type": "code",
   "execution_count": 41,
   "metadata": {},
   "outputs": [
    {
     "name": "stderr",
     "output_type": "stream",
     "text": [
      "/Library/Frameworks/Python.framework/Versions/3.6/lib/python3.6/site-packages/IPython/core/display.py:689: UserWarning:\n",
      "\n",
      "Consider using IPython.display.IFrame instead\n",
      "\n"
     ]
    },
    {
     "data": {
      "text/html": [
       "<iframe id=\"igraph\" scrolling=\"no\" style=\"border:none;\" seamless=\"seamless\" src=\"https://plot.ly/~acostkim000/24.embed\" height=\"525px\" width=\"100%\"></iframe>"
      ],
      "text/plain": [
       "<plotly.tools.PlotlyDisplay object>"
      ]
     },
     "execution_count": 41,
     "metadata": {},
     "output_type": "execute_result"
    }
   ],
   "source": [
    "trace = go.Table( \n",
    "    header = dict(values = ['Asked', 'Bids']),\n",
    "    cells = dict(values = [[shoe_bids], [price_asked]]))\n",
    "\n",
    "data= [trace]\n",
    "py.iplot(data, filename = 'basic table')"
   ]
  },
  {
   "cell_type": "code",
   "execution_count": null,
   "metadata": {},
   "outputs": [],
   "source": []
  }
 ],
 "metadata": {
  "kernelspec": {
   "display_name": "Python 3",
   "language": "python",
   "name": "python3"
  },
  "language_info": {
   "codemirror_mode": {
    "name": "ipython",
    "version": 3
   },
   "file_extension": ".py",
   "mimetype": "text/x-python",
   "name": "python",
   "nbconvert_exporter": "python",
   "pygments_lexer": "ipython3",
   "version": "3.6.6"
  }
 },
 "nbformat": 4,
 "nbformat_minor": 2
}
