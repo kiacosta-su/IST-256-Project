{
 "cells": [
  {
   "cell_type": "code",
   "execution_count": 10,
   "metadata": {},
   "outputs": [
    {
     "name": "stdout",
     "output_type": "stream",
     "text": [
      "Requirement already satisfied: stockx-py-sdk in /usr/local/lib/python3.7/site-packages (0.0.2)\n",
      "Requirement already satisfied: requests in /usr/local/lib/python3.7/site-packages (from stockx-py-sdk) (2.21.0)\n",
      "Requirement already satisfied: urllib3<1.25,>=1.21.1 in /usr/local/lib/python3.7/site-packages (from requests->stockx-py-sdk) (1.24.2)\n",
      "Requirement already satisfied: chardet<3.1.0,>=3.0.2 in /usr/local/lib/python3.7/site-packages (from requests->stockx-py-sdk) (3.0.4)\n",
      "Requirement already satisfied: certifi>=2017.4.17 in /usr/local/lib/python3.7/site-packages (from requests->stockx-py-sdk) (2019.3.9)\n",
      "Requirement already satisfied: idna<2.9,>=2.5 in /usr/local/lib/python3.7/site-packages (from requests->stockx-py-sdk) (2.8)\n"
     ]
    }
   ],
   "source": [
    "!pip3 install stockx-py-sdk"
   ]
  },
  {
   "cell_type": "code",
   "execution_count": 11,
   "metadata": {},
   "outputs": [],
   "source": [
    "from stockxsdk import Stockx"
   ]
  },
  {
   "cell_type": "code",
   "execution_count": 12,
   "metadata": {},
   "outputs": [],
   "source": [
    "stockx = Stockx()"
   ]
  },
  {
   "cell_type": "code",
   "execution_count": 34,
   "metadata": {},
   "outputs": [],
   "source": [
    "def get_product():\n",
    "    # asking user to serach for a product\n",
    "    product_search = input(\"enter the name of your sneaker or 'QUIT' to stop: \")\n",
    "    product_size = input(\"enter a number: \")\n",
    "    \n",
    "    # retriving products from stockx package\n",
    "    products = stockx.search(product_search)\n",
    "    \n",
    "    # grabbing the first product out of the all of searches\n",
    "    single_product = product[0]\n",
    "    \n",
    "    # grabbing the name and id\n",
    "    single_product_name = single_product[\"name\"]\n",
    "    single_product_id = single_product[\"objectID\"]\n",
    "    \n",
    "    # creating empty list of asks and bids for the single product\n",
    "    single_product_bids = []\n",
    "    single_product_asks = []\n",
    "    \n",
    "    # retriving product bids and asks\n",
    "    bids = stockx.get_bids(single_product_id)\n",
    "    for bid in bids:\n",
    "        if bid.shoe_size == product_size:\n",
    "            single_product_bids.append(bid.order_price)\n",
    "\n",
    "    asks = stockx.get_asks(single_product_id)\n",
    "    for ask in asks:\n",
    "        if ask.shoe_size == product_size:\n",
    "            single_product_asks.append(ask.order_price)\n",
    "    \n",
    "    # returning asks and bids\n",
    "    stats = {\n",
    "        \"name\": single_product_name,\n",
    "        \"id\": single_product_id,\n",
    "        \"ask\": single_product_asks,\n",
    "        \"bids\": single_product_bids\n",
    "    }\n",
    "    \n",
    "    return stats"
   ]
  },
  {
   "cell_type": "code",
   "execution_count": 35,
   "metadata": {},
   "outputs": [
    {
     "name": "stdout",
     "output_type": "stream",
     "text": [
      "enter the name of your sneaker or 'QUIT' to stop: fear\n",
      "enter a number: 6\n"
     ]
    },
    {
     "data": {
      "text/plain": [
       "{'name': 'Air Fear of God Raid Light Bone',\n",
       " 'id': 'a71b54ab-ad20-4729-8ad8-9fb337041e54',\n",
       " 'ask': [220,\n",
       "  222,\n",
       "  223,\n",
       "  224,\n",
       "  225,\n",
       "  227,\n",
       "  228,\n",
       "  229,\n",
       "  230,\n",
       "  232,\n",
       "  235,\n",
       "  238,\n",
       "  240,\n",
       "  243,\n",
       "  249,\n",
       "  250,\n",
       "  252,\n",
       "  254,\n",
       "  255,\n",
       "  260,\n",
       "  267.9552,\n",
       "  270,\n",
       "  274,\n",
       "  295,\n",
       "  300,\n",
       "  345,\n",
       "  350,\n",
       "  448.4607,\n",
       "  1500],\n",
       " 'bids': [80, 125, 140, 190, 195, 200, 206, 212]}"
      ]
     },
     "execution_count": 35,
     "metadata": {},
     "output_type": "execute_result"
    }
   ],
   "source": [
    "get_product()"
   ]
  }
 ],
 "metadata": {
  "kernelspec": {
   "display_name": "Python 3",
   "language": "python",
   "name": "python3"
  },
  "language_info": {
   "codemirror_mode": {
    "name": "ipython",
    "version": 3
   },
   "file_extension": ".py",
   "mimetype": "text/x-python",
   "name": "python",
   "nbconvert_exporter": "python",
   "pygments_lexer": "ipython3",
   "version": "3.7.3"
  }
 },
 "nbformat": 4,
 "nbformat_minor": 2
}
